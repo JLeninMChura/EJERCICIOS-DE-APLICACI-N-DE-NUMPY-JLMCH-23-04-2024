{
  "nbformat": 4,
  "nbformat_minor": 0,
  "metadata": {
    "colab": {
      "provenance": [],
      "authorship_tag": "ABX9TyN4DVRFSeUAgZm/yDYW/PX0",
      "include_colab_link": true
    },
    "kernelspec": {
      "name": "python3",
      "display_name": "Python 3"
    },
    "language_info": {
      "name": "python"
    }
  },
  "cells": [
    {
      "cell_type": "markdown",
      "metadata": {
        "id": "view-in-github",
        "colab_type": "text"
      },
      "source": [
        "<a href=\"https://colab.research.google.com/github/JLeninMChura/EJERCICIOS-DE-APLICACI-N-DE-NUMPY-JLMCH-23-04-2024/blob/main/Tarea_23_04_2024.ipynb\" target=\"_parent\"><img src=\"https://colab.research.google.com/assets/colab-badge.svg\" alt=\"Open In Colab\"/></a>"
      ]
    },
    {
      "cell_type": "code",
      "execution_count": 1,
      "metadata": {
        "id": "JS2ytG9NOrwu"
      },
      "outputs": [],
      "source": [
        "#Importar NumPy:\n",
        "import numpy as np"
      ]
    },
    {
      "cell_type": "markdown",
      "source": [
        "#***1. Creación de Arrays:***"
      ],
      "metadata": {
        "id": "rArfh0D0PJ1j"
      }
    },
    {
      "cell_type": "markdown",
      "source": [
        "#1.1 Crea un array unidimensional (vector) con 5 elementos enteros de tu elección."
      ],
      "metadata": {
        "id": "-4h5RUhzZMFc"
      }
    },
    {
      "cell_type": "code",
      "source": [
        "# Creamos un array de numpy con los elementos 1, 2, 3, 4, 5 y lo guardamos en la variable 'vector'\n",
        "vector = np.array([1, 2, 3, 4, 5])\n",
        "print(vector)"
      ],
      "metadata": {
        "colab": {
          "base_uri": "https://localhost:8080/"
        },
        "id": "RRtUQ5awO2aL",
        "outputId": "2d1dd853-0ff4-4631-974d-100d453bcedb"
      },
      "execution_count": 2,
      "outputs": [
        {
          "output_type": "stream",
          "name": "stdout",
          "text": [
            "[1 2 3 4 5]\n"
          ]
        }
      ]
    },
    {
      "cell_type": "markdown",
      "source": [
        "#1.2 Crea una matriz bidimensional (matriz) de tamaño 3x3 con valores enteros consecutivos."
      ],
      "metadata": {
        "id": "IKBe2Y4yZs6E"
      }
    },
    {
      "cell_type": "code",
      "source": [
        "# Creamos una matriz 3x3 de numpy con los elementos del 1 al 9 y la guardamos en la variable 'matriz'\n",
        "matriz = np.array([[1, 2, 3], [4, 5, 6], [7, 8, 9]])\n",
        "print(matriz)"
      ],
      "metadata": {
        "colab": {
          "base_uri": "https://localhost:8080/"
        },
        "id": "Skv34-irPXgr",
        "outputId": "24cd3831-59bc-44b1-95c8-f2e611731c06"
      },
      "execution_count": 35,
      "outputs": [
        {
          "output_type": "stream",
          "name": "stdout",
          "text": [
            "[[1 2 3]\n",
            " [4 5 6]\n",
            " [7 8 9]]\n"
          ]
        }
      ]
    },
    {
      "cell_type": "markdown",
      "source": [
        "#1.3 Utiliza la función np.zeros() para crear una matriz de tamaño 2x4 llena de ceros.\n"
      ],
      "metadata": {
        "id": "ktBhm6jrZ7f9"
      }
    },
    {
      "cell_type": "code",
      "source": [
        "# Creamos una matriz de numpy de 2 filas y 4 columnas, llena de ceros, y la guardamos en la variable 'matriz_ceros'\n",
        "matriz_ceros = np.zeros((2, 4))\n",
        "print(matriz_ceros)"
      ],
      "metadata": {
        "colab": {
          "base_uri": "https://localhost:8080/"
        },
        "id": "IMd2f2nIPeKJ",
        "outputId": "1d28a4dd-35f2-4d17-a1a3-b016fa550670"
      },
      "execution_count": 4,
      "outputs": [
        {
          "output_type": "stream",
          "name": "stdout",
          "text": [
            "[[0. 0. 0. 0.]\n",
            " [0. 0. 0. 0.]]\n"
          ]
        }
      ]
    },
    {
      "cell_type": "markdown",
      "source": [
        "#1.4 Utiliza la función np.random.randint() para crear una matriz de tamaño 4x4 con números enteros aleatorios entre 0 y 10."
      ],
      "metadata": {
        "id": "IOrCELh6aGg6"
      }
    },
    {
      "cell_type": "code",
      "source": [
        "## Creamos una matriz de numpy de 3 filas y 2 columnas, llena de unos, y la guardamos en la variable 'matriz_unos'\n",
        "matriz_unos = np.ones((3, 2))\n",
        "print(matriz_unos)"
      ],
      "metadata": {
        "colab": {
          "base_uri": "https://localhost:8080/"
        },
        "id": "XjgGOu2uPl2D",
        "outputId": "ba831c66-4a7b-4ae6-c8eb-e2f2a1cfda24"
      },
      "execution_count": 5,
      "outputs": [
        {
          "output_type": "stream",
          "name": "stdout",
          "text": [
            "[[1. 1.]\n",
            " [1. 1.]\n",
            " [1. 1.]]\n"
          ]
        }
      ]
    },
    {
      "cell_type": "markdown",
      "source": [
        "#1.5 Utiliza la función np.random.randint() para crear una matriz de tamaño 4x4 con números enteros aleatorios entre 0 y 10."
      ],
      "metadata": {
        "id": "TmKwrOpBaYgr"
      }
    },
    {
      "cell_type": "code",
      "source": [
        "# Creamos una matriz de numpy de 4 filas y 4 columnas, llena de números enteros aleatorios entre 0 y 10, y la guardamos en la variable 'matriz_random'\n",
        "matriz_random = np.random.randint(0, 10, (4, 4))\n",
        "print(matriz_random)"
      ],
      "metadata": {
        "colab": {
          "base_uri": "https://localhost:8080/"
        },
        "id": "OFBMi2ILPxPb",
        "outputId": "caf8706a-6506-4973-e3da-a25f656f717f"
      },
      "execution_count": 6,
      "outputs": [
        {
          "output_type": "stream",
          "name": "stdout",
          "text": [
            "[[2 2 6 2]\n",
            " [2 7 2 9]\n",
            " [2 8 3 5]\n",
            " [8 1 6 5]]\n"
          ]
        }
      ]
    },
    {
      "cell_type": "markdown",
      "source": [
        "#**2. Acceso a Elementos:**"
      ],
      "metadata": {
        "id": "ATS3l6pNP-ky"
      }
    },
    {
      "cell_type": "markdown",
      "source": [
        "#2.1 Accede al tercer elemento del vector creado en el paso 1."
      ],
      "metadata": {
        "id": "aZpPyzWaajP6"
      }
    },
    {
      "cell_type": "code",
      "source": [
        "## Accedemos al tercer elemento del vector numpy 'vector' (la indexación en Python comienza en 0, por lo que el índice 2 corresponde al tercer elemento) y lo guardamos en la variable 'tercer_elemento'\n",
        "tercer_elemento = vector[2]\n",
        "print(tercer_elemento)"
      ],
      "metadata": {
        "colab": {
          "base_uri": "https://localhost:8080/"
        },
        "id": "vKhPoFJVQJZK",
        "outputId": "cb01a2cb-b94c-4d89-ab3e-5869b2ff7069"
      },
      "execution_count": 7,
      "outputs": [
        {
          "output_type": "stream",
          "name": "stdout",
          "text": [
            "3\n"
          ]
        }
      ]
    },
    {
      "cell_type": "markdown",
      "source": [
        "#2.2  Acceder al elemento en la segunda fila y segunda columna de la matriz creada en el primer paso:"
      ],
      "metadata": {
        "id": "Aja7W5zfaoiq"
      }
    },
    {
      "cell_type": "code",
      "source": [
        "# Accedemos al elemento en la segunda fila y segunda columna de la matriz numpy 'matriz' (la indexación en Python comienza en 0, por lo que los índices 1, 1 corresponden a la segunda fila y segunda columna) y lo guardamos en la variable 'elemento_2_2'\n",
        "elemento_2_2 = matriz[1, 1]\n",
        "print(elemento_2_2)"
      ],
      "metadata": {
        "colab": {
          "base_uri": "https://localhost:8080/"
        },
        "id": "fQ_BwtfQQXFq",
        "outputId": "39f37283-3c53-45b0-ef53-f75d0cc837fc"
      },
      "execution_count": 8,
      "outputs": [
        {
          "output_type": "stream",
          "name": "stdout",
          "text": [
            "5\n"
          ]
        }
      ]
    },
    {
      "cell_type": "markdown",
      "source": [
        "#**3. Propiedades de los Arrays:**"
      ],
      "metadata": {
        "id": "QUk1CSYSQeh7"
      }
    },
    {
      "cell_type": "markdown",
      "source": [
        "#3.1 Utiliza el atributo ndim para verificar la cantidad de dimensiones de la matriz creada en el paso 2."
      ],
      "metadata": {
        "id": "PJHVmP5NavLU"
      }
    },
    {
      "cell_type": "code",
      "source": [
        "# Utilizamos la propiedad 'ndim' para obtener el número de dimensiones de la matriz numpy 'matriz' y lo guardamos en la variable 'num_dimensiones'\n",
        "num_dimensiones = matriz.ndim\n",
        "print(num_dimensiones)"
      ],
      "metadata": {
        "colab": {
          "base_uri": "https://localhost:8080/"
        },
        "id": "xh0frRMKQjwZ",
        "outputId": "fe59bb94-9fc8-4753-baab-6b3f915623b6"
      },
      "execution_count": 11,
      "outputs": [
        {
          "output_type": "stream",
          "name": "stdout",
          "text": [
            "2\n"
          ]
        }
      ]
    },
    {
      "cell_type": "markdown",
      "source": [
        "#3.2 Utiliza el atributo shape para obtener la forma de la matriz creada en el paso 2."
      ],
      "metadata": {
        "id": "fmAwMgUba4lk"
      }
    },
    {
      "cell_type": "code",
      "source": [
        "## Utilizamos la propiedad 'shape' para obtener la forma de la matriz numpy 'matriz' (es decir, el número de filas y columnas) y lo guardamos en la variable 'forma'\n",
        "forma = matriz.shape\n",
        "print(forma)"
      ],
      "metadata": {
        "colab": {
          "base_uri": "https://localhost:8080/"
        },
        "id": "v7fM1kPCQvSC",
        "outputId": "7d0f1ade-8620-4640-ad0e-a95ad774e352"
      },
      "execution_count": 10,
      "outputs": [
        {
          "output_type": "stream",
          "name": "stdout",
          "text": [
            "(3, 3)\n"
          ]
        }
      ]
    },
    {
      "cell_type": "markdown",
      "source": [
        "#3.3 Utiliza el atributo size para obtener el tamaño total de la matriz creada en el paso 1."
      ],
      "metadata": {
        "id": "vCmFHGpEa9gi"
      }
    },
    {
      "cell_type": "code",
      "source": [
        "# Utilizamos la propiedad 'size' para obtener el tamaño total de la matriz numpy 'matriz' (es decir, el número total de elementos) y lo guardamos en la variable 'tamaño_total'\n",
        "tamaño_total = matriz.size\n",
        "print(tamaño_total)"
      ],
      "metadata": {
        "colab": {
          "base_uri": "https://localhost:8080/"
        },
        "id": "9acxq0-_QznB",
        "outputId": "e1f60f94-6c5e-4de8-fd89-9bf572e21189"
      },
      "execution_count": 12,
      "outputs": [
        {
          "output_type": "stream",
          "name": "stdout",
          "text": [
            "9\n"
          ]
        }
      ]
    },
    {
      "cell_type": "markdown",
      "source": [
        "#**4. Operaciones básicas**"
      ],
      "metadata": {
        "id": "XK7-iF1fQ8SI"
      }
    },
    {
      "cell_type": "markdown",
      "source": [
        "#4.1 Suma dos matrices de tamaño 2x2 con valores aleatorios entre 0 y 10."
      ],
      "metadata": {
        "id": "4TjUIoKHbIy0"
      }
    },
    {
      "cell_type": "code",
      "source": [
        "# Creamos dos matrices 2x2 'matriz1' y 'matriz2' llenas de números aleatorios enteros entre 0 y 10 usando la función 'np.random.randint'\n",
        "matriz1 = np.random.randint(0, 10, (2, 2))\n",
        "matriz2 = np.random.randint(0, 10, (2, 2))\n",
        "\n",
        "# Sumamos las dos matrices 'matriz1' y 'matriz2' y guardamos el resultado en la variable 'suma'. La suma se realiza elemento por elemento.\n",
        "suma = matriz1 + matriz2\n",
        "print(suma)\n"
      ],
      "metadata": {
        "colab": {
          "base_uri": "https://localhost:8080/"
        },
        "id": "D3HeqXBXRAdZ",
        "outputId": "827080aa-0092-4f8d-a135-4edf7536fad0"
      },
      "execution_count": 14,
      "outputs": [
        {
          "output_type": "stream",
          "name": "stdout",
          "text": [
            "[[ 9 15]\n",
            " [11 18]]\n"
          ]
        }
      ]
    },
    {
      "cell_type": "markdown",
      "source": [
        "#4.2 Multiplica dos matrices de tamaño 3x2 y 2x3 respectivamente."
      ],
      "metadata": {
        "id": "wZ2voRqibWZv"
      }
    },
    {
      "cell_type": "code",
      "source": [
        "# Creamos una matriz 'matriz3' de 3x2 y una matriz 'matriz4' de 2x3 llenas de números aleatorios enteros entre 0 y 10 usando la función 'np.random.randint'\n",
        "matriz3 = np.random.randint(0, 10, (3, 2))\n",
        "matriz4 = np.random.randint(0, 10, (2, 3))\n",
        "\n",
        "# Realizamos el producto de las matrices 'matriz3' y 'matriz4' utilizando la función 'np.dot'. Esta operación realiza un producto de matrices, no un producto elemento por elemento.\n",
        "producto = np.dot(matriz3, matriz4)\n",
        "print(producto)"
      ],
      "metadata": {
        "colab": {
          "base_uri": "https://localhost:8080/"
        },
        "id": "JtttNxcFRn9b",
        "outputId": "9a265c1e-8d89-4150-9028-ff263399e2ef"
      },
      "execution_count": 16,
      "outputs": [
        {
          "output_type": "stream",
          "name": "stdout",
          "text": [
            "[[48 24 36]\n",
            " [48 24 36]\n",
            " [52 48 61]]\n"
          ]
        }
      ]
    },
    {
      "cell_type": "markdown",
      "source": [
        "#4.3 Divide una matriz de tamaño 2x2 por otra matriz de tamaño 2x2, utilizando tanto la división por elementos como la multiplicación por la inversa."
      ],
      "metadata": {
        "id": "KJgNYCz0bdB0"
      }
    },
    {
      "cell_type": "code",
      "source": [
        "# Creamos dos matrices 2x2 'matriz5' y 'matriz6' llenas de números aleatorios enteros entre 1 y 10 usando la función 'np.random.randint'. Evitamos 0 para evitar la división por cero.\n",
        "matriz5 = np.random.randint(1, 10, (2, 2))  # Evitamos 0 para evitar división por cero\n",
        "matriz6 = np.random.randint(1, 10, (2, 2))  # Evitamos 0 para evitar división por cero\n",
        "\n",
        "# Realizamos la división elemento por elemento de 'matriz5' y 'matriz6' utilizando la función 'np.divide' y guardamos el resultado en la variable 'div_elementos'.\n",
        "div_elementos = np.divide(matriz5, matriz6)\n",
        "print(div_elementos)\n",
        "\n",
        "\n",
        "# Calculamos la matriz inversa de 'matriz6' utilizando la función 'np.linalg.inv' y guardamos el resultado en la variable 'matriz6_inv'.\n",
        "matriz6_inv = np.linalg.inv(matriz6)\n",
        "\n",
        "# Realizamos el producto de las matrices 'matriz5' y 'matriz6_inv' utilizando la función 'np.dot'. Esta operación realiza un producto de matrices, no un producto elemento por elemento, y es equivalente a dividir 'matriz5' por 'matriz6'.\n",
        "mult_inversa = np.dot(matriz5, matriz6_inv)\n",
        "print(mult_inversa)"
      ],
      "metadata": {
        "colab": {
          "base_uri": "https://localhost:8080/"
        },
        "id": "sFFKp_juRsp4",
        "outputId": "4dbc790e-7e7c-4a66-a70a-4a4d05d95287"
      },
      "execution_count": 40,
      "outputs": [
        {
          "output_type": "stream",
          "name": "stdout",
          "text": [
            "[[2.5        0.33333333]\n",
            " [0.66666667 0.66666667]]\n",
            "[[-0.75        1.08333333]\n",
            " [ 0.          0.66666667]]\n"
          ]
        }
      ]
    },
    {
      "cell_type": "markdown",
      "source": [
        "#**5. Manipulación de Arrays**"
      ],
      "metadata": {
        "id": "65DUTWCrSs35"
      }
    },
    {
      "cell_type": "markdown",
      "source": [
        "#5.1 Utiliza la función reshape() para convertir el vector creado en el paso 1 en una matriz de tamaño 1x9."
      ],
      "metadata": {
        "id": "T0RG2Ddlbh7p"
      }
    },
    {
      "cell_type": "code",
      "source": [
        "# Redimensionamos la matriz 'matriz' a un vector de 1x9 utilizando la función 'reshape'. Nota: La matriz original debe tener al menos 9 elementos para que esto funcione.\n",
        "re = matriz.reshape(1, 9)\n",
        "\n",
        "print(f\"El vector resultante es: \\n{re}\")"
      ],
      "metadata": {
        "colab": {
          "base_uri": "https://localhost:8080/"
        },
        "id": "anRmVoUtSziI",
        "outputId": "5760d049-b867-4de7-a3ed-759ebe037438"
      },
      "execution_count": 39,
      "outputs": [
        {
          "output_type": "stream",
          "name": "stdout",
          "text": [
            "El vector resultante es: \n",
            "[[1 2 3 4 5 6 7 8 9]]\n"
          ]
        }
      ]
    },
    {
      "cell_type": "markdown",
      "source": [
        "#5.2 Utiliza la función flatten() para convertir la matriz creada en el paso 2 en un vector unidimensional."
      ],
      "metadata": {
        "id": "mt2bOvC0br5a"
      }
    },
    {
      "cell_type": "code",
      "source": [
        "# Aplanamos la matriz 'matriz' a un vector unidimensional utilizando la función 'flatten'. Esta función devuelve una copia de la matriz original, aplanada a un vector.\n",
        "vector_flattened = matriz.flatten()\n",
        "\n",
        "print(vector_flattened)"
      ],
      "metadata": {
        "colab": {
          "base_uri": "https://localhost:8080/"
        },
        "id": "kbE4ZO59TrZo",
        "outputId": "aa5e3cec-2735-4cbb-a427-70cfe65ec3de"
      },
      "execution_count": 21,
      "outputs": [
        {
          "output_type": "stream",
          "name": "stdout",
          "text": [
            "[1 2 3 4 5 6 7 8 9]\n"
          ]
        }
      ]
    },
    {
      "cell_type": "markdown",
      "source": [
        "#**6. Operaciones Estadísticas:**"
      ],
      "metadata": {
        "id": "neeCDdTUT35o"
      }
    },
    {
      "cell_type": "markdown",
      "source": [
        "#6.1 Calcula la suma de todos los elementos de la matriz creada en el paso 2."
      ],
      "metadata": {
        "id": "fSS4h8cMbwUR"
      }
    },
    {
      "cell_type": "code",
      "source": [
        "# Calculamos la suma total de todos los elementos en la matriz 'matriz' utilizando la función 'sum' de numpy. Esta función suma todos los elementos en el array.\n",
        "suma_total = np.sum(matriz)\n",
        "\n",
        "print(f\"La suma de todos los elementos de la matriz es {suma_total}\")"
      ],
      "metadata": {
        "id": "tEq-xUNiT8Kw"
      },
      "execution_count": null,
      "outputs": []
    },
    {
      "cell_type": "markdown",
      "source": [
        "#6.2 Calcula la media de cada fila de la matriz creada en el paso 2."
      ],
      "metadata": {
        "id": "bE1qYEWDb2xK"
      }
    },
    {
      "cell_type": "code",
      "source": [
        "# Calculamos la media de cada fila en la matriz 'matriz' utilizando la función 'mean' de numpy y especificando 'axis=1'. 'axis=1' indica que la operación se debe realizar a lo largo de las filas.\n",
        "media_filas = np.mean(matriz, axis=1)\n",
        "\n",
        "print(f\"La media de cada fila de la matriz es {media_filas}\")"
      ],
      "metadata": {
        "colab": {
          "base_uri": "https://localhost:8080/"
        },
        "id": "eOB6dP5mUWuW",
        "outputId": "717026a9-b0c1-4973-9686-8e42e87cdaf2"
      },
      "execution_count": 24,
      "outputs": [
        {
          "output_type": "stream",
          "name": "stdout",
          "text": [
            "La media de cada fila de la matriz es [2. 5. 8.]\n"
          ]
        }
      ]
    },
    {
      "cell_type": "markdown",
      "source": [
        "#**7. Indexación y Rebanado:**"
      ],
      "metadata": {
        "id": "FPNwOQFKUbY_"
      }
    },
    {
      "cell_type": "markdown",
      "source": [
        "#7.1 Imprime la primera fila de la matriz creada en el paso 1."
      ],
      "metadata": {
        "id": "0toIVU7eb7JB"
      }
    },
    {
      "cell_type": "code",
      "source": [
        "# Extraemos la primera fila de la matriz 'matriz' utilizando la indexación de arrays de numpy. '0' se refiere a la primera fila.\n",
        "primera_fila = matriz[0]\n",
        "\n",
        "print(f\"La primera fila de la matriz es {primera_fila}\")"
      ],
      "metadata": {
        "colab": {
          "base_uri": "https://localhost:8080/"
        },
        "id": "12asDG1EUfYO",
        "outputId": "9ed5e60d-9c53-445a-c6ba-e930bd66115c"
      },
      "execution_count": 25,
      "outputs": [
        {
          "output_type": "stream",
          "name": "stdout",
          "text": [
            "La primera fila de la matriz es [1 2 3]\n"
          ]
        }
      ]
    },
    {
      "cell_type": "markdown",
      "source": [
        "#7.2 Imprime las primeras dos columnas de la matriz creada en el paso 2"
      ],
      "metadata": {
        "id": "q7nmrSCJcCG6"
      }
    },
    {
      "cell_type": "code",
      "source": [
        "# Extraemos las primeras dos columnas de la matriz 'matriz' utilizando la indexación de arrays de numpy. ':, :2' se refiere a todas las filas (el primer ':') y las dos primeras columnas (el ':2').\n",
        "primeras_dos_columnas = matriz[:, :2]\n",
        "\n",
        "print(f\"Las primeras dos columnas de la matriz son \\n{primeras_dos_columnas}\")"
      ],
      "metadata": {
        "colab": {
          "base_uri": "https://localhost:8080/"
        },
        "id": "HN4xmY_1UqEP",
        "outputId": "3cf0139e-e620-4d8e-c191-95b0fcea9daa"
      },
      "execution_count": 26,
      "outputs": [
        {
          "output_type": "stream",
          "name": "stdout",
          "text": [
            "Las primeras dos columnas de la matriz son \n",
            "[[1 2]\n",
            " [4 5]\n",
            " [7 8]]\n"
          ]
        }
      ]
    },
    {
      "cell_type": "markdown",
      "source": [
        "#**8. Ejercicio Adicional**"
      ],
      "metadata": {
        "id": "HJimVRg-Uu7h"
      }
    },
    {
      "cell_type": "markdown",
      "source": [
        "#8.1 Define una matriz de tamaño 4x4 con valores aleatorios."
      ],
      "metadata": {
        "id": "ZwNFa1dWcKGK"
      }
    },
    {
      "cell_type": "code",
      "source": [
        "# Creamos una matriz 4x4 con valores aleatorios utilizando la función 'rand' de numpy. Esta función genera valores aleatorios en el rango [0, 1).\n",
        "matriz = np.random.rand(4, 4)\n",
        "\n",
        "print(f\"Matriz 4x4 con valores aleatorios: \\n{matriz}\\n\")"
      ],
      "metadata": {
        "colab": {
          "base_uri": "https://localhost:8080/"
        },
        "id": "Tgnm7sUDUxEq",
        "outputId": "e712670b-33ee-405b-a5a4-bc35d404dfa8"
      },
      "execution_count": 28,
      "outputs": [
        {
          "output_type": "stream",
          "name": "stdout",
          "text": [
            "Matriz 4x4 con valores aleatorios: \n",
            "[[0.0070698  0.991783   0.58867935 0.55526394]\n",
            " [0.05753827 0.40102094 0.6308819  0.20570628]\n",
            " [0.49060465 0.44537513 0.71199514 0.18634218]\n",
            " [0.54331878 0.20765686 0.52055024 0.72653803]]\n",
            "\n"
          ]
        }
      ]
    },
    {
      "cell_type": "markdown",
      "source": [
        "#8.2  Encuentra el valor máximo y su posición"
      ],
      "metadata": {
        "id": "aCzH8hz1cNUz"
      }
    },
    {
      "cell_type": "code",
      "source": [
        "# Utilizamos la función 'max' de numpy para obtener el valor máximo de la matriz.\n",
        "valor_maximo = np.max(matriz)\n",
        "\n",
        "# Utilizamos la función 'argmax' de numpy para obtener el índice del valor máximo en la matriz aplanada, y luego 'unravel_index' para convertir ese índice a la forma de la matriz original.\n",
        "posicion_maximo = np.unravel_index(np.argmax(matriz), matriz.shape)\n",
        "\n",
        "print(f\"El valor máximo es {valor_maximo} y su posición es {posicion_maximo}\\n\")"
      ],
      "metadata": {
        "colab": {
          "base_uri": "https://localhost:8080/"
        },
        "id": "_K0hFnIQU50m",
        "outputId": "79cd3422-ed3f-444a-bd3d-6fd75f733c8b"
      },
      "execution_count": 29,
      "outputs": [
        {
          "output_type": "stream",
          "name": "stdout",
          "text": [
            "El valor máximo es 0.991782999088573 y su posición es (0, 1)\n",
            "\n"
          ]
        }
      ]
    },
    {
      "cell_type": "markdown",
      "source": [
        "#8.3  Encuentra el valor mínimo y su posición"
      ],
      "metadata": {
        "id": "UNU9SmiFcRPT"
      }
    },
    {
      "cell_type": "code",
      "source": [
        "# Utilizamos la función 'min' de numpy para obtener el valor mínimo de la matriz.\n",
        "valor_minimo = np.min(matriz)\n",
        "\n",
        "# Utilizamos la función 'argmin' de numpy para obtener el índice del valor mínimo en la matriz aplanada, y luego 'unravel_index' para convertir ese índice a la forma de la matriz original.\n",
        "posicion_minimo = np.unravel_index(np.argmin(matriz), matriz.shape)\n",
        "\n",
        "print(f\"El valor mínimo es {valor_minimo} y su posición es {posicion_minimo}\")"
      ],
      "metadata": {
        "colab": {
          "base_uri": "https://localhost:8080/"
        },
        "id": "fN1gE4IuU7ug",
        "outputId": "2850a27c-7367-4bb0-d748-0cd3658c2fd8"
      },
      "execution_count": 30,
      "outputs": [
        {
          "output_type": "stream",
          "name": "stdout",
          "text": [
            "El valor mínimo es 0.00706980225010867 y su posición es (0, 0)\n"
          ]
        }
      ]
    }
  ]
}